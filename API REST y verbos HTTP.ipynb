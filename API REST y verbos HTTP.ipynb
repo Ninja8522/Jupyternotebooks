{
 "cells": [
  {
   "cell_type": "markdown",
   "metadata": {},
   "source": [
    "## ¿Qué es una API REST?"
   ]
  },
  {
   "cell_type": "markdown",
   "metadata": {},
   "source": [
    "**Una API de Rest, también conocida como API REST, es una interfaz de programación de aplicaciones que se apoya en la arquitectura REST para el desarrollo de aplicaciones en red.\n",
    "Aporvechando el lenguaje HTML, permite que cualquier empresa cree aplicaciones web sin problemas, aunque siempre en base a las restricciones que supone.**"
   ]
  },
  {
   "cell_type": "markdown",
   "metadata": {},
   "source": [
    "**REST son las siglas de Representational State Transfer(Transferencia de Estado Representacional), un concepto que establece una serie de restricciones importantes para definir a los sistemas que responden a sus principios. Las restricciones son las siguientes:**\n",
    "    \n",
    "► **Conexión cliente-servidor libre. El cliente no necesita saber los detalles de al implementación del server, y\n",
    "este tampoco debe preocuparse por cómo se usan los datos que envía.**\n",
    "\n",
    "► **Cada petición enviada al servidor es independiente.**\n",
    "\n",
    "► **Compatibilidad con un sistema de almacenamiento en caché.**\n",
    "\n",
    "► **Cada recurso del servicio REST debe tener una única dirección, manteniendo una interfaz genérica.**\n",
    "\n",
    "► **Disposición de diferentes capas para la implementación del servidor.**\n",
    "\n",
    "**Del mismo modo, son cuatro las operaciones que más se usan en las API REST: GET (consulta y lectura), POST (crear), DELETE (eliminar) y PUT (editar).**"
   ]
  },
  {
   "cell_type": "markdown",
   "metadata": {},
   "source": [
    "## Verbos HTTP:"
   ]
  },
  {
   "cell_type": "markdown",
   "metadata": {},
   "source": [
    "**Los verbos HTTP le indican al servidor qué hacer con los datos identificados por la URL.**\n",
    "\n",
    "►***GET:*** **Es el tipo más simple de método de solicitud HTTP; La que usan los navegadores cada vez que hace clic en un enlace o escribe una URL en la barra de direcciones. Indica al servidor que transmita los datos identificados por la URL al cliente. Los datos nunca deben ser modificados en el lado del servidor como resultado de una solicitud GET. En este sentido, una petición GET es de sólo lectura, pero por supuesto, una vez que el cliente recibe los datos, es libre de hacer cualquier operación con ella por su cuenta, por ejemplo, formatearla para su visualización.**\n",
    "\n",
    "►***PUT:*** **El modo PUT reemplaza todas las representaciones actuales del recurso de destino con la carga útil de la petición.**\n",
    "\n",
    "►***DELETE:*** **DELETE debe realizar lo contrario de PUT; Debe utilizarse cuando desee eliminar el recurso identificado por la URL de la solicitud.**\n",
    "\n",
    "►***POST:*** **El método POST se utiliza para enviar una entidad a un recurso en específico, causando a menudo un cambio en el estado o efectos secundarios en el servidor.**\n",
    "\n",
    "►***HEAD:*** **El método HEAD pide una respuesta idéntica a la de una petición GET, pero sin el cuerpo de la respuesta.**\n",
    "\n",
    "►***CONNECT:*** **El método CONNECT establece un túnel hacia el servidor identificado por el recurso.**\n",
    "\n",
    "►***OPTIONS:*** **El método OPTIONS es utilizado para describir las opciones de comunicación para el recurso de destino.**\n",
    "\n",
    "►***TRACE:*** **El método TRACE  realiza una prueba de bucle de retorno de mensaje a lo largo de la ruta al recurso de destino.**\n",
    "\n",
    "►***PATCH:*** **El método PATCH  es utilizado para aplicar modificaciones parciales a un recurso.**"
   ]
  },
  {
   "cell_type": "code",
   "execution_count": null,
   "metadata": {},
   "outputs": [],
   "source": []
  }
 ],
 "metadata": {
  "kernelspec": {
   "display_name": "Python 3",
   "language": "python",
   "name": "python3"
  },
  "language_info": {
   "codemirror_mode": {
    "name": "ipython",
    "version": 3
   },
   "file_extension": ".py",
   "mimetype": "text/x-python",
   "name": "python",
   "nbconvert_exporter": "python",
   "pygments_lexer": "ipython3",
   "version": "3.6.8"
  }
 },
 "nbformat": 4,
 "nbformat_minor": 2
}
